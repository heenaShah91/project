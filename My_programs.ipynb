{
 "cells": [
  {
   "cell_type": "code",
   "execution_count": 1,
   "id": "b9f26063",
   "metadata": {},
   "outputs": [
    {
     "name": "stdout",
     "output_type": "stream",
     "text": [
      "[0, 1, 2, 3, 4, 5, 6, 7, 8]\n"
     ]
    }
   ],
   "source": [
    "x=0\n",
    "l=[]\n",
    "while x<15:\n",
    "    l.append(x)\n",
    "    if x==8:\n",
    "        break\n",
    "    x=x+1\n",
    "print(l)\n"
   ]
  },
  {
   "cell_type": "code",
   "execution_count": 2,
   "id": "9206c93c",
   "metadata": {},
   "outputs": [
    {
     "name": "stdout",
     "output_type": "stream",
     "text": [
      "[1, 2, 3, 4, 6, 7, 8]\n"
     ]
    }
   ],
   "source": [
    "x=0\n",
    "l=[]\n",
    "while x<8:\n",
    "    x=x+1\n",
    "    if x==5:\n",
    "        continue\n",
    "    l.append(x)\n",
    "print(l)"
   ]
  },
  {
   "cell_type": "code",
   "execution_count": 3,
   "id": "08bf5fad",
   "metadata": {},
   "outputs": [
    {
     "name": "stdout",
     "output_type": "stream",
     "text": [
      "['cc', 'cd']\n"
     ]
    }
   ],
   "source": [
    "x=[\"aa\",\"bb\",\"cc\",\"dd\",\"cd\"]\n",
    "l=[]\n",
    "for i in range(len(x)):\n",
    "    if x[i].startswith(\"c\"):\n",
    "        l.append(x[i])\n",
    "print(l)"
   ]
  },
  {
   "cell_type": "code",
   "execution_count": 4,
   "id": "478c2a0c",
   "metadata": {},
   "outputs": [
    {
     "name": "stdout",
     "output_type": "stream",
     "text": [
      "['aa', 'bb', 'cc']\n"
     ]
    }
   ],
   "source": [
    "x=[\"aa\",\"bb\",\"cc\",\"dd\",\"cd\"]\n",
    "l=[]\n",
    "for i in range(len(x)):\n",
    "    l.append(x[i])\n",
    "    if x[i].startswith(\"c\"):\n",
    "        break\n",
    "print(l)"
   ]
  },
  {
   "cell_type": "code",
   "execution_count": 5,
   "id": "3c32be3b",
   "metadata": {},
   "outputs": [
    {
     "name": "stdout",
     "output_type": "stream",
     "text": [
      "['aa', 'bb', 'dd']\n"
     ]
    }
   ],
   "source": [
    "x=[\"aa\",\"bb\",\"cc\",\"dd\",\"cd\"]\n",
    "l=[]\n",
    "for i in range(len(x)):\n",
    "    if x[i].startswith(\"c\"):\n",
    "        continue\n",
    "    l.append(x[i])\n",
    "print(l)"
   ]
  },
  {
   "cell_type": "code",
   "execution_count": 6,
   "id": "9d3a12f2",
   "metadata": {},
   "outputs": [
    {
     "name": "stdout",
     "output_type": "stream",
     "text": [
      "['A', 'C', 'E', 'G', 'I']\n"
     ]
    }
   ],
   "source": [
    "x=\"abcdefghi\"\n",
    "l=[]\n",
    "for i in range(len(x)):\n",
    "    if i%2 == 0:\n",
    "        l.append(x[i].upper())\n",
    "print(l)"
   ]
  },
  {
   "cell_type": "code",
   "execution_count": 7,
   "id": "7a8b9f78",
   "metadata": {},
   "outputs": [
    {
     "name": "stdout",
     "output_type": "stream",
     "text": [
      "4\n"
     ]
    }
   ],
   "source": [
    "x=\"aaabdear\"\n",
    "count=0\n",
    "for i in range(len(x)):\n",
    "    if(x[i]==\"a\"):\n",
    "        count=count+1\n",
    "print(count)       \n",
    "    \n",
    "    "
   ]
  },
  {
   "cell_type": "code",
   "execution_count": 8,
   "id": "9671741d",
   "metadata": {},
   "outputs": [
    {
     "name": "stdout",
     "output_type": "stream",
     "text": [
      "3\n",
      "5\n",
      "7\n",
      "9\n"
     ]
    }
   ],
   "source": [
    "for i in range(2,11):\n",
    "    if i%2!=0 and i%i==0:\n",
    "        print(i)\n",
    "        "
   ]
  },
  {
   "cell_type": "code",
   "execution_count": 9,
   "id": "b735d559",
   "metadata": {},
   "outputs": [
    {
     "data": {
      "text/plain": [
       "[0, 1, 4, 9, 16, 25, 36, 49, 64, 81]"
      ]
     },
     "execution_count": 9,
     "metadata": {},
     "output_type": "execute_result"
    }
   ],
   "source": [
    "[i*i for i in range(10)]"
   ]
  },
  {
   "cell_type": "code",
   "execution_count": 10,
   "id": "7aa0c377",
   "metadata": {},
   "outputs": [
    {
     "name": "stdout",
     "output_type": "stream",
     "text": [
      "2* 1 = 2\n",
      "2* 2 = 4\n",
      "2* 3 = 6\n",
      "2* 4 = 8\n",
      "2* 5 = 10\n",
      "2* 6 = 12\n",
      "2* 7 = 14\n",
      "2* 8 = 16\n",
      "2* 9 = 18\n",
      "2* 10 = 20\n"
     ]
    }
   ],
   "source": [
    "for i in range(1,11):\n",
    "    print(\"2*\",i,\"=\",2*i)"
   ]
  },
  {
   "cell_type": "code",
   "execution_count": 11,
   "id": "e367a205",
   "metadata": {},
   "outputs": [
    {
     "name": "stdout",
     "output_type": "stream",
     "text": [
      "1\n",
      "2\n",
      "5\n"
     ]
    }
   ],
   "source": [
    "x=\"abgrohtasdroy125\"\n",
    "for i in range(len(x)):\n",
    "    if x[i].isdigit()==True:\n",
    "        print(x[i])"
   ]
  },
  {
   "cell_type": "code",
   "execution_count": 12,
   "id": "60704956",
   "metadata": {},
   "outputs": [
    {
     "name": "stdout",
     "output_type": "stream",
     "text": [
      "2\n"
     ]
    }
   ],
   "source": [
    "y=\"Osmania University\"\n",
    "count=0\n",
    "for i in range(len(y)):\n",
    "    if y[i]==\"s\":\n",
    "        count=count+1\n",
    "print(count)    "
   ]
  },
  {
   "cell_type": "code",
   "execution_count": 13,
   "id": "f67d6444",
   "metadata": {},
   "outputs": [
    {
     "name": "stdout",
     "output_type": "stream",
     "text": [
      "my name is Heena Im 25 years old and my contact number is 123456789\n"
     ]
    }
   ],
   "source": [
    "def bio(name,age,ph):\n",
    "    print(\"my name is {} Im {} years old and my contact number is {}\".format(name,age,ph))\n",
    "\n",
    "bio(\"Heena\",25,123456789)"
   ]
  },
  {
   "cell_type": "code",
   "execution_count": 14,
   "id": "fe7fd2b9",
   "metadata": {},
   "outputs": [
    {
     "name": "stdout",
     "output_type": "stream",
     "text": [
      "my name is saxson Im 36 years old and my contact number is 9874556112\n"
     ]
    }
   ],
   "source": [
    "bio(name=\"saxson\",ph=9874556112,age=36)"
   ]
  },
  {
   "cell_type": "code",
   "execution_count": 15,
   "id": "94a26a83",
   "metadata": {},
   "outputs": [],
   "source": [
    "def calc(v1,sym,v2):\n",
    "    if sym==\"+\":\n",
    "        return v1+v2\n",
    "    elif sym==\"-\":\n",
    "        return v1-v2\n",
    "    elif sym==\"*\":\n",
    "        return v1*v2\n",
    "    elif sym==\"/\":\n",
    "        return v1/v2\n",
    "    else:\n",
    "        return \"enter proper symbol\""
   ]
  },
  {
   "cell_type": "code",
   "execution_count": 16,
   "id": "6c2d99de",
   "metadata": {},
   "outputs": [
    {
     "data": {
      "text/plain": [
       "'enter proper symbol'"
      ]
     },
     "execution_count": 16,
     "metadata": {},
     "output_type": "execute_result"
    }
   ],
   "source": [
    "calc(2,\"@\",5)"
   ]
  },
  {
   "cell_type": "code",
   "execution_count": 17,
   "id": "f762d1d0",
   "metadata": {},
   "outputs": [
    {
     "data": {
      "text/plain": [
       "30"
      ]
     },
     "execution_count": 17,
     "metadata": {},
     "output_type": "execute_result"
    }
   ],
   "source": [
    "calc(5,\"*\",6)"
   ]
  },
  {
   "cell_type": "code",
   "execution_count": 18,
   "id": "3ce35397",
   "metadata": {},
   "outputs": [],
   "source": [
    "def mul(*v):\n",
    "    for i in v:\n",
    "        print(4*i)"
   ]
  },
  {
   "cell_type": "code",
   "execution_count": 19,
   "id": "4fc0e9c2",
   "metadata": {},
   "outputs": [
    {
     "name": "stdout",
     "output_type": "stream",
     "text": [
      "8\n",
      "20\n"
     ]
    }
   ],
   "source": [
    "mul(2,5)"
   ]
  },
  {
   "cell_type": "code",
   "execution_count": 20,
   "id": "21e3639c",
   "metadata": {},
   "outputs": [],
   "source": [
    "def calc(*v):\n",
    "    for i in v:\n",
    "        print(i*i*i)"
   ]
  },
  {
   "cell_type": "code",
   "execution_count": 21,
   "id": "177bcf44",
   "metadata": {},
   "outputs": [
    {
     "name": "stdout",
     "output_type": "stream",
     "text": [
      "1\n",
      "27\n",
      "64\n",
      "512\n"
     ]
    }
   ],
   "source": [
    "calc(1,3,4,8)"
   ]
  },
  {
   "cell_type": "code",
   "execution_count": 22,
   "id": "9baf682b",
   "metadata": {},
   "outputs": [],
   "source": [
    "def bio(**v):\n",
    "    for x,y in v.items():\n",
    "        print(x,y)"
   ]
  },
  {
   "cell_type": "code",
   "execution_count": 23,
   "id": "01fb4720",
   "metadata": {},
   "outputs": [
    {
     "name": "stdout",
     "output_type": "stream",
     "text": [
      "name saxson\n",
      "age 25\n"
     ]
    }
   ],
   "source": [
    "bio(name=\"saxson\",age=25)"
   ]
  },
  {
   "cell_type": "code",
   "execution_count": 24,
   "id": "0e7e84cf",
   "metadata": {},
   "outputs": [],
   "source": [
    "def bio(**var):\n",
    "    for i,j in var.items():\n",
    "        print(\"my {} is {}\".format(i,j))"
   ]
  },
  {
   "cell_type": "code",
   "execution_count": 25,
   "id": "a0165d00",
   "metadata": {},
   "outputs": [
    {
     "name": "stdout",
     "output_type": "stream",
     "text": [
      "my name is heena_shah\n",
      "my age is 26\n",
      "my phone is 123456789\n",
      "my qualification is B.com computers\n",
      "my color is Fair\n"
     ]
    }
   ],
   "source": [
    "bio(name=\"heena_shah\",age=26,phone=123456789,qualification=\"B.com computers\",color=\"Fair\")"
   ]
  },
  {
   "cell_type": "code",
   "execution_count": 26,
   "id": "ccc2a1bc",
   "metadata": {},
   "outputs": [
    {
     "data": {
      "text/plain": [
       "23"
      ]
     },
     "execution_count": 26,
     "metadata": {},
     "output_type": "execute_result"
    }
   ],
   "source": [
    "w=lambda x,y,z:x+y+z  \n",
    "w(6,9,8)"
   ]
  },
  {
   "cell_type": "code",
   "execution_count": 27,
   "id": "d3c991b7",
   "metadata": {},
   "outputs": [
    {
     "data": {
      "text/plain": [
       "[0, 1, 4, 9, 16, 25, 36, 49, 64, 81]"
      ]
     },
     "execution_count": 27,
     "metadata": {},
     "output_type": "execute_result"
    }
   ],
   "source": [
    "list(map(lambda x:x*x,(range(10))))\n"
   ]
  },
  {
   "cell_type": "code",
   "execution_count": 28,
   "id": "ae2ec6a5",
   "metadata": {},
   "outputs": [
    {
     "data": {
      "text/plain": [
       "[6, 12, 18]"
      ]
     },
     "execution_count": 28,
     "metadata": {},
     "output_type": "execute_result"
    }
   ],
   "source": [
    "list(filter(lambda x:x%2==0 and x%3==0,(range(1,21))))"
   ]
  },
  {
   "cell_type": "code",
   "execution_count": 29,
   "id": "2032c8d3",
   "metadata": {},
   "outputs": [
    {
     "data": {
      "text/plain": [
       "[0.2, 0.8, 88.2]"
      ]
     },
     "execution_count": 29,
     "metadata": {},
     "output_type": "execute_result"
    }
   ],
   "source": [
    "l=[1,2,21]\n",
    "list(map(lambda x:x*x/5,l))"
   ]
  },
  {
   "cell_type": "code",
   "execution_count": 31,
   "id": "3accc222",
   "metadata": {},
   "outputs": [
    {
     "data": {
      "text/plain": [
       "[7, 21, 35, 49, 63, 77, 91]"
      ]
     },
     "execution_count": 31,
     "metadata": {},
     "output_type": "execute_result"
    }
   ],
   "source": [
    "list(filter(lambda x:x%2!=0 and x%7==0,(range(100))))"
   ]
  },
  {
   "cell_type": "code",
   "execution_count": null,
   "id": "09f78c6e",
   "metadata": {},
   "outputs": [],
   "source": []
  }
 ],
 "metadata": {
  "kernelspec": {
   "display_name": "Python 3 (ipykernel)",
   "language": "python",
   "name": "python3"
  },
  "language_info": {
   "codemirror_mode": {
    "name": "ipython",
    "version": 3
   },
   "file_extension": ".py",
   "mimetype": "text/x-python",
   "name": "python",
   "nbconvert_exporter": "python",
   "pygments_lexer": "ipython3",
   "version": "3.9.13"
  }
 },
 "nbformat": 4,
 "nbformat_minor": 5
}
